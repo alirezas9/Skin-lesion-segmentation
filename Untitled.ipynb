{
 "cells": [
  {
   "cell_type": "markdown",
   "id": "48377a27-e5f1-418d-b0c1-6a80062273da",
   "metadata": {},
   "source": [
    "<h2 align=\"center\"> سلام </h2>"
   ]
  },
  {
   "cell_type": "code",
   "execution_count": null,
   "id": "486d43d5-79f9-44cc-a5b6-a987e7c46973",
   "metadata": {},
   "outputs": [],
   "source": []
  }
 ],
 "metadata": {
  "kernelspec": {
   "display_name": "Python 3 (ipykernel)",
   "language": "python",
   "name": "python3"
  },
  "language_info": {
   "codemirror_mode": {
    "name": "ipython",
    "version": 3
   },
   "file_extension": ".py",
   "mimetype": "text/x-python",
   "name": "python",
   "nbconvert_exporter": "python",
   "pygments_lexer": "ipython3",
   "version": "3.11.4"
  }
 },
 "nbformat": 4,
 "nbformat_minor": 5
}
